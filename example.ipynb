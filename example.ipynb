{
 "cells": [
  {
   "cell_type": "code",
   "execution_count": 7,
   "metadata": {},
   "outputs": [],
   "source": [
    "import torch\n",
    "import torch.nn as nn\n",
    "\n",
    "from torch.utils.data import Dataset, DataLoader\n",
    "from base_model import BaseModel"
   ]
  },
  {
   "cell_type": "markdown",
   "metadata": {},
   "source": [
    "In this notebook, we'll be testing capabilities of the `BaseModel` class. This class can be inherited by your PyTorch model's to give it added abilities of predicting segmentation maps from images. In this example, we will view this using the following two classes:\n",
    "- A toy model that just returns a random segmentation map given an image (without using it)\n",
    "- An untrained UNet model that uses the image to predict a segmentation map."
   ]
  },
  {
   "cell_type": "markdown",
   "metadata": {},
   "source": [
    "### Toy Example"
   ]
  },
  {
   "cell_type": "markdown",
   "metadata": {},
   "source": [
    "#### Toy Dataset"
   ]
  },
  {
   "cell_type": "code",
   "execution_count": 8,
   "metadata": {},
   "outputs": [],
   "source": [
    "class ToyDataset(Dataset):\n",
    "    def __init__(self, num_samples, num_classes):\n",
    "        self.num_samples = num_samples\n",
    "        self.num_classes = num_classes\n",
    "    \n",
    "    def __len__(self):\n",
    "        return self.num_samples\n",
    "    \n",
    "    def __getitem__(self, idx):\n",
    "\n",
    "        # Generate random image\n",
    "        image = torch.rand(3, 224, 224)\n",
    "        #Generate corresponding one-hot segmentation mask of num_classes\n",
    "        mask = torch.randint(0, self.num_classes, (224, 224))\n",
    "        mask = nn.functional.one_hot(mask, self.num_classes).permute(2, 0, 1).float()\n",
    "\n",
    "        return image, mask\n",
    "\n"
   ]
  },
  {
   "cell_type": "markdown",
   "metadata": {},
   "source": [
    "#### Toy Model"
   ]
  },
  {
   "cell_type": "code",
   "execution_count": 6,
   "metadata": {},
   "outputs": [],
   "source": [
    "class CustomSegmentationModel(nn.Module, BaseModel):\n",
    "    def __init__(self, device, num_classes=1):\n",
    "        nn.Module.__init__(self)\n",
    "        BaseModel.__init__(self, device)\n",
    "        self.num_classes = num_classes\n",
    "        # Your model layers and operations here\n",
    "\n",
    "    def forward(self, x):\n",
    "        #Get batch size of x\n",
    "        batch_size = x.shape[0]\n",
    "\n",
    "        #Return a tensor of size (batch_size, num_classes, x.shape[2], x.shape[3])\n",
    "        return torch.randn(batch_size, self.num_classes, x.shape[2], x.shape[3])"
   ]
  },
  {
   "cell_type": "code",
   "execution_count": 16,
   "metadata": {},
   "outputs": [],
   "source": [
    "num_classes = 3\n",
    "toy_model = CustomSegmentationModel(device='cpu', num_classes=num_classes)\n",
    "toy_dataset = ToyDataset(num_samples=10, num_classes=num_classes)\n",
    "toy_dataloader = DataLoader(toy_dataset, batch_size=2, shuffle=True)"
   ]
  },
  {
   "cell_type": "code",
   "execution_count": 17,
   "metadata": {},
   "outputs": [],
   "source": [
    "#Get single image and mask\n",
    "image, mask = next(iter(toy_dataloader))\n",
    "image = image[0]\n",
    "mask = mask[0]"
   ]
  },
  {
   "cell_type": "code",
   "execution_count": 18,
   "metadata": {},
   "outputs": [],
   "source": [
    "predicted_mask = toy_model.predict_image(image)"
   ]
  },
  {
   "cell_type": "code",
   "execution_count": 19,
   "metadata": {},
   "outputs": [
    {
     "name": "stdout",
     "output_type": "stream",
     "text": [
      "(224, 224, 5)\n"
     ]
    }
   ],
   "source": [
    "print(predicted_mask.shape)\n"
   ]
  },
  {
   "cell_type": "markdown",
   "metadata": {},
   "source": [
    "The example above demonstrates the prediction of a single segmentation mask, try changing the num_classes to 5 and see what happens!\n",
    "\n",
    "If you'd like you can obtain the class of each pixel by running `argmax` on the output of the model."
   ]
  },
  {
   "cell_type": "code",
   "execution_count": null,
   "metadata": {},
   "outputs": [],
   "source": []
  }
 ],
 "metadata": {
  "kernelspec": {
   "display_name": "condatorch",
   "language": "python",
   "name": "python3"
  },
  "language_info": {
   "codemirror_mode": {
    "name": "ipython",
    "version": 3
   },
   "file_extension": ".py",
   "mimetype": "text/x-python",
   "name": "python",
   "nbconvert_exporter": "python",
   "pygments_lexer": "ipython3",
   "version": "3.8.13"
  },
  "orig_nbformat": 4
 },
 "nbformat": 4,
 "nbformat_minor": 2
}
